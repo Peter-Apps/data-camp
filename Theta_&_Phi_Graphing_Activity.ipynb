{
  "nbformat": 4,
  "nbformat_minor": 0,
  "metadata": {
    "colab": {
      "private_outputs": true,
      "provenance": [],
      "include_colab_link": true
    },
    "kernelspec": {
      "name": "python3",
      "display_name": "Python 3"
    },
    "language_info": {
      "name": "python"
    }
  },
  "cells": [
    {
      "cell_type": "markdown",
      "metadata": {
        "id": "view-in-github",
        "colab_type": "text"
      },
      "source": [
        "<a href=\"https://colab.research.google.com/github/Peter-Apps/data-camp/blob/main/Theta_%26_Phi_Graphing_Activity.ipynb\" target=\"_parent\"><img src=\"https://colab.research.google.com/assets/colab-badge.svg\" alt=\"Open In Colab\"/></a>"
      ]
    },
    {
      "cell_type": "markdown",
      "source": [
        "#Theta & Phi Graphing Activity\n",
        "This is a Jupyter notebook with blocks of code called cells. You can press shift+ENTER or click the play button at left to run a cell and go on to the next one. You can also edit the code and run it again to see how the output changes.\n",
        "\n",
        "You may see a popup window the first time saying \"Warning\". Don't worry, it's safe. Click on \"run anyway\".\n",
        "\n",
        "Try running the following cells by pressing SHIFT and ENTER (at the same time) for each one.\n",
        "\n",
        "You won't hurt anything by experimenting. If you break it, close the tab and open the activity again to start over. If you want to save the changes you made, you can create a copy that will live in your Google Drive and belong to you."
      ],
      "metadata": {
        "id": "e212LRIrVo_j"
      }
    },
    {
      "cell_type": "markdown",
      "source": [
        "###Here's some background info on the detector that was used to collect this data\n",
        "\n",
        "The CMS detector uses several angles to describe the path of the collision products.\n",
        "\n",
        "<div>\n",
        "<img src=\"https://tikz.net/wp-content/uploads/2021/09/axis3D_CMS-001.png\", width=300/>\n",
        "</div>\n",
        "\n",
        "The beamline, AKA the direction the protons move, is aligned with the $z$ axis, and the $x$ and $y$ axis represent the plane transverse to the beamline. After the proton-proton collision, particles come flying out in all directions.\n",
        "The polar angle $\\theta$ measures the particle's direction relative to the beamline, while $\\phi$ measures the particle's angle in the transverse plane.\n",
        "\n",
        "Here's a couple of sites to browse if you need a bit more detail.\n",
        "* [Geometry of a Collider Detector](https://quarknet.org/page/geometry-collider-detector)\n",
        "* [CMS Coordinate System](https://tikz.net/axis3d_cms/)"
      ],
      "metadata": {
        "id": "NN4Du2qxVzfZ"
      }
    },
    {
      "cell_type": "code",
      "execution_count": null,
      "metadata": {
        "id": "_UhL8zH-HOH-"
      },
      "outputs": [],
      "source": [
        "# Importing some useful tools\n",
        "import pandas as pd # <-- Pandas lets us easily create and use data tables, which are called \"dataframes\" in Python\n",
        "import numpy as np # <-- Numpy is useful for doing math on a large amount of data\n",
        "from matplotlib import pyplot as plt # <-- Pyplot to create pretty graphs\n",
        "\n",
        "# The \"as\" command allows us to use pd, np and plt as abbreviations for those libraries.\n"
      ]
    },
    {
      "cell_type": "code",
      "source": [
        "# Creating our 3 data files.\n",
        "# Reading in the csv file.\n",
        "# This CMS dataset has over 1 million events with dilepton products\n",
        "\n",
        "# Here's the electron dataset we'll be using\n",
        "data = pd.read_csv(\"https://drive.google.com/uc?export=download&id=17I_r75CK-19ixyG-czq9iphHwD3p4qsV&confirm=t\")\n",
        "\n",
        "# If you're interested, you can uncomment this line to use the muon dataset instead\n",
        "#data = pd.read_csv(\"https://drive.google.com/uc?export=download&id=1ykN2rQ2MsNt-F_Ky4lliaaWx5O_8oiPn&confirm=t\")\n",
        "\n",
        "# Removing columns we don't need and creating a few we will use\n",
        "data[\"theta_rad\"] = 2 * np.arctan(np.exp(-1 * data.eta))\n",
        "data[\"theta_deg\"] = np.degrees(data[\"theta_rad\"])\n",
        "\n",
        "# Comment out this line if you're using the muon dataset\n",
        "data = data.drop([\"entry\", \"subentry\", \"run\", \"luminosityBlock\", \"event\",\"nElectron\", \"pt\", \"eta\", \"charge\", \"pfRelIso03_all\", \"dxy\", \"dxyErr\", \"dz\", \"dzErr\", \"cutBasedId\", \"pfId\", \"sip3d\"], axis = 1)\n",
        "\n",
        "# Uncomment this line if you're using the muon dataset\n",
        "#data = data.drop([\"entry\", \"subentry\", \"luminosityBlock\", \"event\", \"nMuon\", \"pt\", \"charge\", \"pfRelIso03_all\", \"pfRelIso04_all\"])\n",
        "\n",
        "# Splitting the dataset up into 3 different sizes\n",
        "small = data.iloc[:5000,:].copy()\n",
        "medium = data.iloc[:300_000,:].copy()\n",
        "large = data.copy()\n"
      ],
      "metadata": {
        "id": "urGTRcJaO2wG"
      },
      "execution_count": null,
      "outputs": []
    },
    {
      "cell_type": "code",
      "source": [
        "# You can look at the size of each file by using the shape command to see the number of rows and columns\n",
        "data.shape\n",
        "\n",
        "# Try using this to determine the shape of the \"small\" and/or \"medium\" file!"
      ],
      "metadata": {
        "id": "EljFIep8PfZE"
      },
      "execution_count": null,
      "outputs": []
    },
    {
      "cell_type": "code",
      "source": [
        "# You can see the headers by using the .head command; in this example we will display the first 5 rows of the dataframe.\n",
        "data.head(5)"
      ],
      "metadata": {
        "id": "qKe0hwSdRcFq"
      },
      "execution_count": null,
      "outputs": []
    },
    {
      "cell_type": "markdown",
      "source": [
        "# Checkpoint:\n",
        "* How many data points are there in each dataset? Hint: Use the ```.shape``` command\n",
        "* What are the column titles in each dataset? What do they refer to? Hint: Use the ```.head()``` command\n",
        "\n",
        "Once you feel comfortable describing the dataset, move on to analyzing it. Below are some lines of code that will plot the transverse angle $\\phi$ as a histogram. Some choices made in the code are deliberately bad. Make changes to the code as appropriate.\n"
      ],
      "metadata": {
        "id": "PyGeKCX0UdqC"
      }
    },
    {
      "cell_type": "code",
      "source": [
        "# Create a histogram of the small data set. In this case, we're using the phi column.\n",
        "plt.hist(small[\"phi\"], bins = 5, range = [0,10])\n",
        "plt.title(\"I'm a title\")\n",
        "plt.xlabel(\"I'm an X-axis label\")\n",
        "plt.ylabel(\"I'm a Y-axis label\")\n",
        "plt.show()"
      ],
      "metadata": {
        "id": "H39ntyDPHeyy"
      },
      "execution_count": null,
      "outputs": []
    },
    {
      "cell_type": "markdown",
      "source": [
        "# Checkpoint\n",
        "\n",
        "* Does your histogram now give you meaningful information about the particles that resulted from the p-p collisions?\n",
        "* Do you see patterns?\n",
        "* Do these patterns persist if you change the number of bins, or the plot range?\n",
        "* What changes if you decide to plot $\\theta$ insead of $\\phi$? Is there anything interesting there?\n",
        "\n",
        "Below, you can take a second look at the data, but with error bars added to the histogram."
      ],
      "metadata": {
        "id": "4oVVEyMwU1Jy"
      }
    },
    {
      "cell_type": "code",
      "source": [
        "# Here's the same histogram from above but with error bars added.\n",
        "# For this example, we're using the square root of the count as the uncertainity\n",
        "\n",
        "# Creating the histogram and saving the number of bins, and their edges as variables\n",
        "n, bin_edges, _ = plt.hist(small[\"phi\"], bins = 5, range = [0,10], color = 'r')\n",
        "\n",
        "# Calculating the center of each bin\n",
        "bin_centers = 0.5 * (bin_edges[1:] + bin_edges[:-1])\n",
        "\n",
        "# Adding error bars to the plot. Feel free to experiment with changing the fmt, ecolor and capsize\n",
        "plt.errorbar(bin_centers, n, yerr = np.sqrt(n), fmt = \".\", ecolor = 'k', capsize = 5)\n",
        "\n",
        "plt.show()"
      ],
      "metadata": {
        "id": "EM_JASz0K0zc"
      },
      "execution_count": null,
      "outputs": []
    },
    {
      "cell_type": "markdown",
      "source": [
        "# Your Task:\n",
        "* Make a <b>claim</b> about how phi is distributed in the histogram, and <i><u>justify</i></u> this claim using <b>evidence</b> from your plot and <b>reasoning</b> based on arguments about the physics of the collisions, the design of the hardware, and/or the software used to gather the data.\n",
        "* Adjust the bin width, plot range, and amount of data. Add error bars to your plot.\n",
        " * Did any of these changes affect your claim? If so how?\n",
        "* Repeat this process using theta instead of phi.\n",
        "\n",
        "When prompted, share your CER statement with the other members of your group.\n"
      ],
      "metadata": {
        "id": "pYvWePRIRxs5"
      }
    }
  ]
}