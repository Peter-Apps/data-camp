{
  "cells": [
    {
      "cell_type": "markdown",
      "metadata": {
        "id": "view-in-github",
        "colab_type": "text"
      },
      "source": [
        "<a href=\"https://colab.research.google.com/github/QuarkNet-HEP/data-camp/blob/main/CMS_event_analysis.ipynb\" target=\"_parent\"><img src=\"https://colab.research.google.com/assets/colab-badge.svg\" alt=\"Open In Colab\"/></a>"
      ]
    },
    {
      "cell_type": "markdown",
      "metadata": {
        "id": "0EdH49e9WtrO"
      },
      "source": [
        "# CMS Event Analysis\n",
        "---\n",
        "To get started,\n",
        "- You won't hurt anything by experimenting. If you break it, close the tab and open the link again to start over.\n",
        "- Is this your first time with Jupyter and Python? Need a refresher? Try the 5-minute [Intro to Jupyter activity](https://colab.research.google.com/github/QuarkNet-HEP/data-camp/blob/master/intro.ipynb) and come back here.\n",
        "- Your edits here will NOT SAVE automatically, unless you save a copy to your drive"
      ]
    },
    {
      "cell_type": "code",
      "execution_count": null,
      "metadata": {
        "id": "m64e8SvfWtrS"
      },
      "outputs": [],
      "source": [
        "# Installing some extra programs to help us (this may take a minute the first time this is run)\n",
        "!pip -q install gdown==4.6.0\n",
        "import gdown\n",
        "\n",
        "# imports some software packages we'll use\n",
        "import pandas as pd\n",
        "import numpy as np\n",
        "import matplotlib as mpl\n",
        "import matplotlib.pyplot as plt\n",
        "mpl.rcdefaults()"
      ]
    },
    {
      "cell_type": "markdown",
      "source": [
        "## Getting the Data"
      ],
      "metadata": {
        "id": "42Nf-1YvBA0w"
      }
    },
    {
      "cell_type": "code",
      "source": [
        "#@title Choose your decay mode from the list below.\n",
        "#@markdown ###Then click the play button for this cell.\n",
        "decay_channel = 'Double Electron' #@param[\"Double Electron\", \"Double Muon\", \"Double Electron with Mass\", \"Double Muon with Mass\", \"Single Electron\", \"Single Muon\", \"Messy Double Electron\", \"Messy Double Muon\"]\n",
        "\n",
        "datasets = {\n",
        "    'Double Electron': \"https://github.com/QuarkNet-HEP/data-camp/raw/main/data/Double_Electron_Run2011A.csv\",\n",
        "    'Double Muon': \"https://github.com/QuarkNet-HEP/data-camp/raw/main/data/Double_Muon_Run2011A.csv\",\n",
        "    'Single Electron': \"https://github.com/QuarkNet-HEP/data-camp/raw/main/data/Single_Electron_Run2011A.csv\",\n",
        "    'Single Muon': \"https://github.com/QuarkNet-HEP/data-camp/raw/main/data/Single_Muon_Run2011A.csv\",\n",
        "    'Messy Double Electron' : \"13onXkQVkzO2akLK5bAnvQdPfH4gY8-W_\",\n",
        "    'Messy Double Muon' : \"1uIIfjiR4CGJ6W83tZF0glzQegzE7ZyXm\",\n",
        "    \"Double Electron with Mass\" : \"1wn8uaJD_3RW65VdNTWUZH_Tqetm6YS0Z\",\n",
        "    \"Double Muon with Mass\" : \"1ATxOZQQVhuG-k2Ftg3Hh9ublENf6eIfy\"\n",
        "}\n",
        "\n",
        "#@markdown If you want to download a local copy of the datasets, you can find them at https://github.com/QuarkNet-HEP/data-camp\n",
        "\n",
        "# Read in the dataset and store it as the variable \"data\"\n",
        "print(f'Loading {decay_channel} dataset')\n",
        "\n",
        "# Are these hosted in Google Drive?\n",
        "if decay_channel in ['Messy Double Electron','Messy Double Muon',\"Double Electron with Mass\",\"Double Muon with Mass\"]:\n",
        "  file_id = datasets.get(decay_channel)\n",
        "  file_name = f'{decay_channel}.csv'\n",
        "  gdown.download(id=file_id, output=file_name)\n",
        "  data = pd.read_csv(file_name)\n",
        "\n",
        "else:\n",
        "  data = pd.read_csv(datasets.get(decay_channel))\n",
        "print('Dataset loaded')"
      ],
      "metadata": {
        "id": "rynDiq8IqqIO",
        "cellView": "form"
      },
      "execution_count": null,
      "outputs": []
    },
    {
      "cell_type": "markdown",
      "source": [
        "## Working with the Data"
      ],
      "metadata": {
        "id": "v-X-dPbv3A-C"
      }
    },
    {
      "cell_type": "markdown",
      "source": [
        "The dataset is stored as the variable ```data```. Let's explore the dataset."
      ],
      "metadata": {
        "id": "Plg_AqJKhKiw"
      }
    },
    {
      "cell_type": "code",
      "execution_count": null,
      "metadata": {
        "id": "cx2kjUjGWtrU"
      },
      "outputs": [],
      "source": [
        "# The .head(n) command displays the first n rows of a file.\n",
        "data.head(3)"
      ]
    },
    {
      "cell_type": "code",
      "execution_count": null,
      "metadata": {
        "id": "j8rOxPcrWtrU"
      },
      "outputs": [],
      "source": [
        "# The .shape command displays the (number of rows , number of columns) in a file.\n",
        "data.shape"
      ]
    },
    {
      "cell_type": "code",
      "execution_count": null,
      "metadata": {
        "id": "NDwuBE73WtrV"
      },
      "outputs": [],
      "source": [
        "# You can specify a column by dataset[\"column name\"] (e.g., data[\"E1\"])\n",
        "\n",
        "# This makes a new column called \"Junk\" and fills it with a meaningless\n",
        "# quantity (E1 + px1) for each event\n",
        "data['Junk'] = data['E1'] + data['px1']"
      ]
    },
    {
      "cell_type": "code",
      "execution_count": null,
      "metadata": {
        "id": "uhL9GOv4WtrV"
      },
      "outputs": [],
      "source": [
        "# This makes a histogram of that totally useless calculation above\n",
        "plt.hist(data['Junk'], bins=4, range=[0,100], log=False)\n",
        "plt.title(\"Title me!\")\n",
        "plt.xlabel(\"x-axis label\")\n",
        "plt.ylabel(\"pirates\");"
      ]
    },
    {
      "cell_type": "code",
      "execution_count": null,
      "metadata": {
        "id": "Wa-vptPCWtrY"
      },
      "outputs": [],
      "source": [
        "# calculates descriptive statistics about a column in the table\n",
        "data['Junk'].describe()"
      ]
    },
    {
      "cell_type": "markdown",
      "source": [
        "## Trimming the Data"
      ],
      "metadata": {
        "id": "XzxiLRHkuSOt"
      }
    },
    {
      "cell_type": "markdown",
      "source": [
        "These are for example purposes and may or may not be relevant to your analysis."
      ],
      "metadata": {
        "id": "qQFjf0RCd-6X"
      }
    },
    {
      "cell_type": "code",
      "execution_count": null,
      "metadata": {
        "id": "eRT1RSeSWtrY"
      },
      "outputs": [],
      "source": [
        "# Making cuts on your data (i.e., filtering your data set)\n",
        "# The query command pulls data that matches the criteria in the ( ) and saves it as a new variable.\n",
        "this_is_another_dataframe_that_stores_the_eta_cut = data.query('eta1 > .1 & eta2 > .2')"
      ]
    },
    {
      "cell_type": "code",
      "source": [
        "# You can also do math in the query statements\n",
        "new_dataframe_for_math_cut = data.query('eta1 + eta2 > 0')\n",
        "\n",
        "# And can do cuts on cuts\n",
        "dataframe_with_cuts_from_the_math_query = new_dataframe_for_math_cut.query('px1 * px2 > 50')"
      ],
      "metadata": {
        "id": "J6fvGh8yERTu"
      },
      "execution_count": null,
      "outputs": []
    },
    {
      "cell_type": "code",
      "source": [
        "# This cut only works with the muon sets, because there's no column called Type1 in the electron sets.\n",
        "this_dataframe_stores_data_from_the_type_cut = data.query('Type1 == \"G\" & Type2 == \"T\"')"
      ],
      "metadata": {
        "id": "MSfFLfefD6Iz"
      },
      "execution_count": null,
      "outputs": []
    },
    {
      "cell_type": "code",
      "source": [
        "# Make a histogram of the cut data\n",
        "plt.hist(this_is_another_dataframe_that_stores_the_eta_cut['px1'], bins=10, range=[0,100], log=False)"
      ],
      "metadata": {
        "id": "f8FAgHoOcshH"
      },
      "execution_count": null,
      "outputs": []
    },
    {
      "cell_type": "markdown",
      "source": [
        "## Error Bars"
      ],
      "metadata": {
        "id": "UmFZCtPmBrDS"
      }
    },
    {
      "cell_type": "markdown",
      "source": [
        "There are many ways to add error bars to your histogram. Here's one way."
      ],
      "metadata": {
        "id": "ae0DVJk7BvdD"
      }
    },
    {
      "cell_type": "code",
      "source": [
        "n, bin_edges, patches = plt.hist(data['Junk'], bins=20, range=[0,100], log=False)\n",
        "bin_centers = 0.5*(bin_edges[1:] + bin_edges[:-1])\n",
        "plt.errorbar(bin_centers, n, yerr = np.sqrt(n), fmt='.', ecolor='k', capsize=5)\n",
        "\n",
        "plt.xlabel(\"My x axis has a label\")\n",
        "plt.ylabel(\"So does my y-axis\")\n",
        "plt.title(\"This is an awesome title\")\n",
        "plt.show()"
      ],
      "metadata": {
        "id": "ldSZq2nnBtys"
      },
      "execution_count": null,
      "outputs": []
    },
    {
      "cell_type": "markdown",
      "source": [
        "Feel free to tinker with those parameters and others. Full documentation on plt.errorbar [here](https://matplotlib.org/api/_as_gen/matplotlib.pyplot.errorbar.html).\n"
      ],
      "metadata": {
        "id": "ZdoQD6lcEzxJ"
      }
    },
    {
      "cell_type": "markdown",
      "source": [
        "###This is totally optional, but can make your plots look fun."
      ],
      "metadata": {
        "id": "j_1Xy-9h2294"
      }
    },
    {
      "cell_type": "code",
      "execution_count": null,
      "metadata": {
        "id": "4Veg5BxFWtrX"
      },
      "outputs": [],
      "source": [
        "# run this command to make your plots look like they're from xkcd.com\n",
        "plt.xkcd()\n",
        "# then re-execute your code to make a plot and see it xkcd-ified."
      ]
    },
    {
      "cell_type": "code",
      "execution_count": null,
      "metadata": {
        "id": "kajXiKz0WtrX"
      },
      "outputs": [],
      "source": [
        "# run this cell to make normal-looking plots again\n",
        "mpl.rcdefaults()"
      ]
    },
    {
      "cell_type": "markdown",
      "metadata": {
        "collapsed": true,
        "id": "SrQI18O6WtrY"
      },
      "source": [
        "---\n",
        "## Saving Your Work\n",
        "This is running on a Google server on a distant planet and deletes what you've done when you close this tab. To save your work for later use or analysis you have a few options:\n",
        "- File > Save a Copy to Drive (*Best option*)\n",
        "- File > Download .ipynb to save to your computer (and run with Jupyter software)\n",
        "- File > Download .py to save to your computer (and run with any Python software)\n",
        "- File > Print to ... um ... print.\n",
        "- Save an image to your computer of a graph or chart, right-click on it and select Save Image as ..."
      ]
    },
    {
      "cell_type": "markdown",
      "source": [
        "Last revised 7/14/2024"
      ],
      "metadata": {
        "id": "MhR-ZMHrEIdN"
      }
    }
  ],
  "metadata": {
    "kernelspec": {
      "display_name": "Python 3 (ipykernel)",
      "language": "python",
      "name": "python3"
    },
    "language_info": {
      "codemirror_mode": {
        "name": "ipython",
        "version": 3
      },
      "file_extension": ".py",
      "mimetype": "text/x-python",
      "name": "python",
      "nbconvert_exporter": "python",
      "pygments_lexer": "ipython3",
      "version": "3.9.7"
    },
    "colab": {
      "provenance": [],
      "name": "CMS_event_analysis.ipynb",
      "collapsed_sections": [
        "UmFZCtPmBrDS"
      ],
      "include_colab_link": true
    }
  },
  "nbformat": 4,
  "nbformat_minor": 0
}
