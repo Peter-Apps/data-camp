{
  "cells": [
    {
      "cell_type": "markdown",
      "metadata": {
        "id": "view-in-github",
        "colab_type": "text"
      },
      "source": [
        "<a href=\"https://colab.research.google.com/github/Peter-Apps/data-camp/blob/main/CMS_event_analysis.ipynb\" target=\"_parent\"><img src=\"https://colab.research.google.com/assets/colab-badge.svg\" alt=\"Open In Colab\"/></a>"
      ]
    },
    {
      "cell_type": "markdown",
      "metadata": {
        "id": "0EdH49e9WtrO"
      },
      "source": [
        "# CMS Event Analysis\n",
        "---\n",
        "To get started,\n",
        "- You won't hurt anything by experimenting. If you break it, close the tab and open the link again to start over.\n",
        "- Is this your first time with Jupyter and Python? Need a refresher? Try the 5-minute [Intro to Jupyter activity](https://colab.research.google.com/github/QuarkNet-HEP/data-camp/blob/master/intro.ipynb) and come back here.\n",
        "- Your edits here will NOT SAVE automatically, unless you save a copy to your drive"
      ]
    },
    {
      "cell_type": "code",
      "execution_count": 2,
      "metadata": {
        "id": "m64e8SvfWtrS"
      },
      "outputs": [],
      "source": [
        "# imports some software packages we'll use\n",
        "import pandas as pd\n",
        "import numpy as np\n",
        "import matplotlib as mpl\n",
        "import matplotlib.pyplot as plt\n",
        "mpl.rcdefaults()"
      ]
    },
    {
      "cell_type": "markdown",
      "source": [
        "## Getting the Data"
      ],
      "metadata": {
        "id": "42Nf-1YvBA0w"
      }
    },
    {
      "cell_type": "code",
      "source": [
        "#@title Choose your decay mode from the list below.\n",
        "#@markdown ###Then click the play button for this cell.\n",
        "decay_channel = 'Double Electron' #@param[\"Double Electron\", \"Double Muon\", \"Double Electron w/ Mass\", \"Double Muon w/ Mass\", \"Single Electron\", \"Single Muon\", \"Messy Double Electron\", \"Messy Double Muon\"]\n",
        "\n",
        "datasets = {\n",
        "    'Double Electron': \"https://github.com/QuarkNet-HEP/data-camp/raw/main/data/Double_Electron_Run2011A.csv\",\n",
        "    'Double Muon': \"https://github.com/QuarkNet-HEP/data-camp/raw/main/data/Double_Muon_Run2011A.csv\",\n",
        "    'Single Electron': \"https://github.com/QuarkNet-HEP/data-camp/raw/main/data/Single_Electron_Run2011A.csv\",\n",
        "    'Single Muon': \"https://github.com/QuarkNet-HEP/data-camp/raw/main/data/Single_Muon_Run2011A.csv\",\n",
        "    'Messy Double Electron' : \"https://drive.google.com/uc?export=download&id=13onXkQVkzO2akLK5bAnvQdPfH4gY8-W_&confirm=t\",\n",
        "    'Messy Double Muon' : \"https://drive.google.com/uc?export=download&id=1uIIfjiR4CGJ6W83tZF0glzQegzE7ZyXm&confirm=t\",\n",
        "    \"Double Electron w/ Mass\" : \"https://drive.google.com/uc?export=download&id=1wn8uaJD_3RW65VdNTWUZH_Tqetm6YS0Z&confirm=t\",\n",
        "    \"Double Muon w/ Mass\" : \"https://drive.google.com/uc?export=download&id=1ATxOZQQVhuG-k2Ftg3Hh9ublENf6eIfy&confirm=t\"\n",
        "}\n",
        "\n",
        "#@markdown If you want to download a local copy of the datasets, you can find them at https://github.com/QuarkNet-HEP/data-camp\n",
        "\n",
        "# Read in the dataset and store it as the variable \"data\"\n",
        "print(f'Loading {decay_channel} dataset')\n",
        "data = pd.read_csv(datasets.get(decay_channel))\n",
        "print('Dataset loaded')"
      ],
      "metadata": {
        "id": "rynDiq8IqqIO",
        "cellView": "form",
        "outputId": "6408b550-a8c2-4924-d83f-03043f08ec0b",
        "colab": {
          "base_uri": "https://localhost:8080/"
        }
      },
      "execution_count": 4,
      "outputs": [
        {
          "output_type": "stream",
          "name": "stdout",
          "text": [
            "Loading Double Muon dataset\n",
            "Dataset loaded\n"
          ]
        }
      ]
    },
    {
      "cell_type": "markdown",
      "source": [
        "## Working with the Data"
      ],
      "metadata": {
        "id": "v-X-dPbv3A-C"
      }
    },
    {
      "cell_type": "code",
      "execution_count": null,
      "metadata": {
        "id": "cx2kjUjGWtrU"
      },
      "outputs": [],
      "source": [
        "# The .head(n) command displays the first n rows of a file.\n",
        "data.head(3)"
      ]
    },
    {
      "cell_type": "code",
      "execution_count": null,
      "metadata": {
        "id": "j8rOxPcrWtrU"
      },
      "outputs": [],
      "source": [
        "# The .shape command displays the (number of rows , number of columns) in a file.\n",
        "data.shape"
      ]
    },
    {
      "cell_type": "code",
      "execution_count": null,
      "metadata": {
        "id": "NDwuBE73WtrV"
      },
      "outputs": [],
      "source": [
        "# You can specify a column by dataset[\"column name\"] (e.g., data[\"E1\"])\n",
        "\n",
        "# This makes a new column called \"Junk\" and fills it with a meaningless\n",
        "# quantity (E1 + px1) for each event\n",
        "data['Junk'] = data['E1'] + data['px1']"
      ]
    },
    {
      "cell_type": "code",
      "execution_count": null,
      "metadata": {
        "id": "uhL9GOv4WtrV"
      },
      "outputs": [],
      "source": [
        "# This makes a histogram of that totally useless calculation above\n",
        "plt.hist(data['Junk'], bins=4, range=[0,100], log=False)\n",
        "plt.title(\"Title me!\")\n",
        "plt.xlabel(\"x-axis label\")\n",
        "plt.ylabel(\"pirates\");"
      ]
    },
    {
      "cell_type": "code",
      "execution_count": null,
      "metadata": {
        "id": "Wa-vptPCWtrY"
      },
      "outputs": [],
      "source": [
        "# calculates descriptive statistics\n",
        "data['Junk'].describe()"
      ]
    },
    {
      "cell_type": "markdown",
      "metadata": {
        "id": "ti7zamohWtrW"
      },
      "source": [
        "Here's a markdown cell, in case you wanted to add pretty, formatted text to describe what you're doing in each section\n",
        "\n"
      ]
    },
    {
      "cell_type": "markdown",
      "source": [
        "###This is totally optional, but can make your plots look fun."
      ],
      "metadata": {
        "id": "j_1Xy-9h2294"
      }
    },
    {
      "cell_type": "code",
      "execution_count": null,
      "metadata": {
        "id": "4Veg5BxFWtrX"
      },
      "outputs": [],
      "source": [
        "# run this command to make your plots look like they're from xkcd.com\n",
        "plt.xkcd()\n",
        "# then re-execute your code to make a plot and see it xkcd-ified."
      ]
    },
    {
      "cell_type": "code",
      "execution_count": null,
      "metadata": {
        "id": "kajXiKz0WtrX"
      },
      "outputs": [],
      "source": [
        "# run this cell to make normal-looking plots again\n",
        "mpl.rcdefaults()"
      ]
    },
    {
      "cell_type": "markdown",
      "source": [
        "## Trimming the Data"
      ],
      "metadata": {
        "id": "XzxiLRHkuSOt"
      }
    },
    {
      "cell_type": "code",
      "execution_count": null,
      "metadata": {
        "id": "eRT1RSeSWtrY"
      },
      "outputs": [],
      "source": [
        "# Making cuts on your data (i.e., filtering your data set)\n",
        "eta_cut = data.query('eta1 > .1 & eta2 > .2')\n",
        "type_cut = data.query('Type1 == \"G\" & Type2 == \"T\"')\n",
        "eta_cut.head()"
      ]
    },
    {
      "cell_type": "markdown",
      "source": [
        "## Error Bars"
      ],
      "metadata": {
        "id": "UmFZCtPmBrDS"
      }
    },
    {
      "cell_type": "markdown",
      "source": [
        "There are many ways to add error bars to your histogram. Here's one way."
      ],
      "metadata": {
        "id": "ae0DVJk7BvdD"
      }
    },
    {
      "cell_type": "code",
      "source": [
        "n, bin_edges, patches = plt.hist(data['Junk'], bins=20, range=[0,100], log=False)\n",
        "bin_centers = 0.5*(bin_edges[1:] + bin_edges[:-1])\n",
        "plt.errorbar(bin_centers, n, yerr = np.sqrt(n), fmt='.', ecolor='k', capsize=5)\n",
        "\n",
        "plt.xlabel(\"My x axis has a label\")\n",
        "plt.ylabel(\"So does my y-axis\")\n",
        "plt.title(\"This is an awesome title\")\n",
        "plt.show()"
      ],
      "metadata": {
        "id": "ldSZq2nnBtys"
      },
      "execution_count": null,
      "outputs": []
    },
    {
      "cell_type": "markdown",
      "source": [
        "Feel free to tinker with those parameters and others. Full documentation on plt.errorbar [here](https://matplotlib.org/api/_as_gen/matplotlib.pyplot.errorbar.html).\n"
      ],
      "metadata": {
        "id": "ZdoQD6lcEzxJ"
      }
    },
    {
      "cell_type": "markdown",
      "metadata": {
        "collapsed": true,
        "id": "SrQI18O6WtrY"
      },
      "source": [
        "---\n",
        "## Saving Your Work\n",
        "This is running on a Google server on a distant planet and deletes what you've done when you close this tab. To save your work for later use or analysis you have a few options:\n",
        "- File > Save a Copy to Drive (*Best option*)\n",
        "- File > Download .ipynb to save to your computer (and run with Jupyter software)\n",
        "- File > Download .py to save to your computer (and run with any Python software)\n",
        "- File > Print to ... um ... print.\n",
        "- Save an image to your computer of a graph or chart, right-click on it and select Save Image as ..."
      ]
    },
    {
      "cell_type": "markdown",
      "source": [
        "Last revised 6/5/2023"
      ],
      "metadata": {
        "id": "MhR-ZMHrEIdN"
      }
    }
  ],
  "metadata": {
    "kernelspec": {
      "display_name": "Python 3 (ipykernel)",
      "language": "python",
      "name": "python3"
    },
    "language_info": {
      "codemirror_mode": {
        "name": "ipython",
        "version": 3
      },
      "file_extension": ".py",
      "mimetype": "text/x-python",
      "name": "python",
      "nbconvert_exporter": "python",
      "pygments_lexer": "ipython3",
      "version": "3.9.7"
    },
    "colab": {
      "provenance": [],
      "include_colab_link": true
    }
  },
  "nbformat": 4,
  "nbformat_minor": 0
}